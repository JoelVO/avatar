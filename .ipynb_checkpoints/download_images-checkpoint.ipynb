{
 "cells": [
  {
   "cell_type": "code",
   "execution_count": 1,
   "id": "21bb0e1e",
   "metadata": {},
   "outputs": [],
   "source": [
    "import requests\n",
    "import json\n",
    "import hashlib\n",
    "import shutil\n",
    "import os\n",
    "from glob import glob\n",
    "from tqdm import tqdm"
   ]
  },
  {
   "cell_type": "code",
   "execution_count": 2,
   "id": "4a9e1196",
   "metadata": {},
   "outputs": [],
   "source": [
    "token = \"hPqIvSkowBaEzfdzfAbfnr0no76deEOt\"\n",
    "\n",
    "api_key = \"d5d7cdb4fce61bb9404529c8841a3cb5\"\n",
    "secret = \"ec0807858be78265b129c55153229f53\""
   ]
  },
  {
   "cell_type": "code",
   "execution_count": 129,
   "id": "902c81f5",
   "metadata": {},
   "outputs": [
    {
     "data": {
      "text/plain": [
       "'g0B8woiABGDE_0IHy3gi3qadoBVb6DQb'"
      ]
     },
     "execution_count": 129,
     "metadata": {},
     "output_type": "execute_result"
    }
   ],
   "source": [
    "api_sig = hashlib.md5(f\"api_key{api_key}methodauth.getSessiontoken{token}{secret}\".encode())\n",
    "api_sig = api_sig.hexdigest()\n",
    "\n",
    "\n",
    "response = requests.get(f\"http://www.last.fm/api/auth/?method=auth.getsession&api_key={api_key}&token={token}&api_sig={api_sig}\")\n",
    "\n",
    "\n",
    "sk = reponse.json()['token']\n",
    "sk"
   ]
  },
  {
   "cell_type": "markdown",
   "id": "95888454",
   "metadata": {},
   "source": [
    "# Getting artists"
   ]
  },
  {
   "cell_type": "code",
   "execution_count": 28,
   "id": "f59202b2",
   "metadata": {
    "scrolled": true
   },
   "outputs": [
    {
     "name": "stderr",
     "output_type": "stream",
     "text": [
      "100%|███████████████████████████████████████| 1000/1000 [17:19<00:00,  1.04s/it]\n"
     ]
    }
   ],
   "source": [
    "saving_path = './album'\n",
    "artists,mbid = [],[]\n",
    "\n",
    "for page in range(10):\n",
    "    path = f\"http://ws.audioscrobbler.com/2.0/?method=chart.gettopartists&\"\n",
    "    path += f\"api_key={api_key}&limit=50&page={page+1}&format=json\"\n",
    "\n",
    "    response = requests.get(path).json()\n",
    "\n",
    "    last_list = response['artists']['artist']\n",
    "\n",
    "    for i in last_list:\n",
    "        artists.append(i['name'])\n",
    "        mbid.append(i['mbid'])\n",
    "    \n",
    "\n",
    "for i in tqdm(range(len(mbid))):\n",
    "    if '/' in artists[i]:\n",
    "        continue\n",
    "    \n",
    "    if os.path.exists(f'{saving_path}/{artists[i]}'):\n",
    "        if len(glob(f'{saving_path}/{artists[i]}/*')) > 0:\n",
    "            continue\n",
    "    \n",
    "    if len(mbid[i]) > 0:\n",
    "        path = f\"http://ws.audioscrobbler.com/2.0/?method=artist.gettopalbums&\"\n",
    "        path += f\"api_key={api_key}&limit=10&mbid={mbid[i]}&format=json\"\n",
    "        \n",
    "    else:\n",
    "        path = f\"http://ws.audioscrobbler.com/2.0/?method=artist.gettopalbums&\"\n",
    "        path += f\"api_key={api_key}&artist={artists[i]}&limit=10&format=json\"\n",
    "\n",
    "    response = requests.get(path).json()\n",
    "    \n",
    "    if not os.path.exists(f'{saving_path}/{artists[i]}'):\n",
    "        os.mkdir(f'{saving_path}/{artists[i]}')\n",
    "\n",
    "    album = response['topalbums']['album']\n",
    "\n",
    "    for j in range(len(album)):\n",
    "        try:\n",
    "            image_path = album[j]['image'][3]['#text']\n",
    "            album_name = album[j]['name']\n",
    "            playcount = album[j]['playcount']\n",
    "            file_name = f'{saving_path}/{artists[i]}/{album_name}_{playcount}.png'\n",
    "\n",
    "\n",
    "            res = requests.get(image_path, stream = True)\n",
    "\n",
    "            if res.status_code == 200:\n",
    "                with open(file_name,'wb') as f:\n",
    "                    shutil.copyfileobj(res.raw, f)\n",
    "                    \n",
    "        except:\n",
    "            continue\n",
    "            \n"
   ]
  },
  {
   "cell_type": "code",
   "execution_count": null,
   "id": "6d005114",
   "metadata": {},
   "outputs": [],
   "source": []
  }
 ],
 "metadata": {
  "kernelspec": {
   "display_name": "Python 3 (ipykernel)",
   "language": "python",
   "name": "python3"
  },
  "language_info": {
   "codemirror_mode": {
    "name": "ipython",
    "version": 3
   },
   "file_extension": ".py",
   "mimetype": "text/x-python",
   "name": "python",
   "nbconvert_exporter": "python",
   "pygments_lexer": "ipython3",
   "version": "3.9.7"
  }
 },
 "nbformat": 4,
 "nbformat_minor": 5
}
